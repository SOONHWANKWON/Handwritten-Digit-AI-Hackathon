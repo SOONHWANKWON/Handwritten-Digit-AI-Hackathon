{
 "cells": [
  {
   "cell_type": "markdown",
   "id": "6a10ea87-b0d5-4f5b-9ab2-caeb89cbcedb",
   "metadata": {},
   "source": [
    "# 손글씨 분류 AI해커톤 코드 설명"
   ]
  },
  {
   "cell_type": "code",
   "execution_count": null,
   "id": "42f48c5e-847e-476d-babc-f261a262b035",
   "metadata": {},
   "outputs": [],
   "source": [
    "import tensorflow as tf\n",
    "import pandas as pd\n",
    "import os\n",
    "from tensorflow.keras.models import Sequential\n",
    "from tensorflow.keras.layers import Conv2D, MaxPooling2D, Flatten, Dense, Dropout\n",
    "from tensorflow.keras.callbacks import ModelCheckpoint\n",
    "import matplotlib.pyplot as plt\n",
    "import numpy as np\n",
    "from PIL import Image\n",
    "import warnings "
   ]
  },
  {
   "cell_type": "markdown",
   "id": "6ee37026-8f7f-4e92-ba91-77c7b9f4e56a",
   "metadata": {},
   "source": [
    "### 경고 무시"
   ]
  },
  {
   "cell_type": "code",
   "execution_count": null,
   "id": "52c773f6-a63c-4d89-822c-08179ea3650b",
   "metadata": {},
   "outputs": [],
   "source": [
    "warnings.filterwarnings(action='ignore')"
   ]
  },
  {
   "cell_type": "markdown",
   "id": "534779ee-1617-4f1a-94f8-07a6b2232ee5",
   "metadata": {},
   "source": [
    "### 파일 경로 설정"
   ]
  },
  {
   "cell_type": "code",
   "execution_count": null,
   "id": "0f712454-7c34-4388-bfaf-51d4063ea79e",
   "metadata": {},
   "outputs": [],
   "source": [
    "train_file_path = r\"/content/drive/MyDrive/Colab Notebooks/train/train_data.csv\"\n",
    "test_file_path = r\"/content/drive/MyDrive/Colab Notebooks/test/test_data.csv\"\n",
    "sample_submission_file_path = r\"/content/drive/MyDrive/Colab Notebooks/sample_submission.csv\"\n",
    "train_dir = r\"/content/drive/MyDrive/Colab Notebooks/train\"\n",
    "test_dir = r\"/content/drive/MyDrive/Colab Notebooks/test\""
   ]
  },
  {
   "cell_type": "markdown",
   "id": "74c684e2-894e-4cb3-8333-5294e0375c4f",
   "metadata": {},
   "source": [
    "### 데이터 로드"
   ]
  },
  {
   "cell_type": "code",
   "execution_count": null,
   "id": "01a2f4cd-cab6-48b5-8d65-f4db7a11b920",
   "metadata": {},
   "outputs": [],
   "source": [
    "train = pd.read_csv(train_file_path)\n",
    "test = pd.read_csv(test_file_path)\n",
    "sample_submission = pd.read_csv(sample_submission_file_path)"
   ]
  },
  {
   "cell_type": "markdown",
   "id": "16ed9584-7e76-4685-bf32-14b91b678584",
   "metadata": {},
   "source": [
    "### 학습 및 테스트 데이터 확인"
   ]
  },
  {
   "cell_type": "code",
   "execution_count": null,
   "id": "a24df211-ea39-42a2-8457-b34bb3849275",
   "metadata": {},
   "outputs": [],
   "source": [
    "display(train, test)"
   ]
  },
  {
   "cell_type": "markdown",
   "id": "05b4cacc-b858-4f5f-af83-d2a49da699e4",
   "metadata": {},
   "source": [
    "### 라벨 분포 확인"
   ]
  },
  {
   "cell_type": "code",
   "execution_count": null,
   "id": "4b290b78-5c57-49b2-9bdb-f5675195b041",
   "metadata": {},
   "outputs": [],
   "source": [
    "train['label'].plot(kind='hist', bins=20, title='label')\n",
    "plt.gca().spines[['top', 'right',]].set_visible(False)"
   ]
  },
  {
   "cell_type": "markdown",
   "id": "e1b04092-d041-40f6-b74c-4bad9df00fda",
   "metadata": {},
   "source": [
    "### 이미지 확인 (첫 번째 이미지 로드 및 표시)"
   ]
  },
  {
   "cell_type": "code",
   "execution_count": null,
   "id": "ae801344-a99e-4b20-b116-aae828c3b4dc",
   "metadata": {},
   "outputs": [],
   "source": [
    "file_name = train['file_name'][0]\n",
    "file_path = f\"{train_dir}/{file_name}\"\n",
    "\n",
    "try:\n",
    "    sample_image = Image.open(file_path)\n",
    "    sample_label = train['label'][0]\n",
    "    plt.title('label: ' + str(sample_label))\n",
    "    plt.imshow(sample_image, cmap='gray')\n",
    "    plt.show()\n",
    "except FileNotFoundError:\n",
    "    print(f\"파일을 찾을 수 없습니다: {file_path}\")"
   ]
  },
  {
   "cell_type": "markdown",
   "id": "1343b1e9-6abf-43d0-a4f4-bf21bb0dcca6",
   "metadata": {},
   "source": [
    "### 이미지와 레이블을 로드하는 함수 정의"
   ]
  },
  {
   "cell_type": "code",
   "execution_count": null,
   "id": "4235b7d3-039e-4a7e-9794-222204c851f4",
   "metadata": {},
   "outputs": [],
   "source": [
    "def load_image(image_file, label, img_size=(28, 28)):\n",
    "    image = tf.io.read_file(image_file)\n",
    "    image = tf.image.decode_png(image, channels=1)  # 흑백 이미지로 변환\n",
    "    image = tf.image.resize(image, img_size)\n",
    "    image = tf.cast(image, tf.float32) / 255.0  # 스케일링\n",
    "    return image, label"
   ]
  },
  {
   "cell_type": "markdown",
   "id": "8042d2d1-f397-4e89-8723-9fc0533aad38",
   "metadata": {},
   "source": [
    "### 데이터셋 생성 함수 정의"
   ]
  },
  {
   "cell_type": "code",
   "execution_count": null,
   "id": "f892997e-22de-4fcd-adf0-d48a4582e0c0",
   "metadata": {},
   "outputs": [],
   "source": [
    "def create_dataset(file_paths, labels, batch_size=32):\n",
    "    dataset = tf.data.Dataset.from_tensor_slices((file_paths, labels))\n",
    "    dataset = dataset.map(load_image, num_parallel_calls=tf.data.experimental.AUTOTUNE)\n",
    "    dataset = dataset.batch(batch_size)\n",
    "    dataset = dataset.prefetch(tf.data.experimental.AUTOTUNE)\n",
    "    return dataset"
   ]
  },
  {
   "cell_type": "markdown",
   "id": "636e1e47-3ed2-47b4-b3db-3d2b5787d85f",
   "metadata": {},
   "source": [
    "### 학습 및 검증 데이터셋 생성"
   ]
  },
  {
   "cell_type": "code",
   "execution_count": null,
   "id": "2c15f0d8-111c-4db4-9acd-840e3b29d9b9",
   "metadata": {},
   "outputs": [],
   "source": [
    "train_image_paths = [os.path.join(train_dir, fname) for fname in train['file_name']]\n",
    "train_labels = train['label'].values\n",
    "validation_split = 0.2  # 검증 데이터 비율\n",
    "num_train = int((1 - validation_split) * len(train_image_paths))\n",
    "\n",
    "train_dataset = create_dataset(train_image_paths[:num_train], train_labels[:num_train])\n",
    "validation_dataset = create_dataset(train_image_paths[num_train:], train_labels[num_train:])"
   ]
  },
  {
   "cell_type": "markdown",
   "id": "1f36061b-2ba4-40fa-ada7-a43271468aa2",
   "metadata": {},
   "source": [
    "### 테스트 데이터셋 생성"
   ]
  },
  {
   "cell_type": "code",
   "execution_count": null,
   "id": "75bfc2a8-2c6c-4a20-b52c-11ddeede5fa6",
   "metadata": {},
   "outputs": [],
   "source": [
    "test_image_paths = [os.path.join(test_dir, fname) for fname in test['file_name']]"
   ]
  },
  {
   "cell_type": "markdown",
   "id": "0959851b-3b31-4de4-a857-c08211eed33a",
   "metadata": {},
   "source": [
    "### 모델 설계"
   ]
  },
  {
   "cell_type": "code",
   "execution_count": null,
   "id": "f4bad4cc-bf1a-44ca-bb29-73c3dcf10820",
   "metadata": {},
   "outputs": [],
   "source": [
    "model = tf.keras.models.Sequential([\n",
    "    tf.keras.layers.InputLayer(input_shape=(28, 28, 1)),\n",
    "    tf.keras.layers.Conv2D(32, (3, 3), activation='relu'),\n",
    "    tf.keras.layers.MaxPooling2D((2, 2)),\n",
    "    tf.keras.layers.Conv2D(64, (3, 3), activation='relu'),\n",
    "    tf.keras.layers.MaxPooling2D((2, 2)),\n",
    "    tf.keras.layers.Flatten(),\n",
    "    tf.keras.layers.Dense(128, activation='relu'),\n",
    "    tf.keras.layers.Dropout(0.5),\n",
    "    tf.keras.layers.Dense(10, activation='softmax')\n",
    "])\n",
    "\n",
    "model.summary()"
   ]
  },
  {
   "cell_type": "markdown",
   "id": "26e16007-db4f-4949-8bbe-84b03b925f50",
   "metadata": {},
   "source": [
    "### 모델 컴파일 및 학습 설정"
   ]
  },
  {
   "cell_type": "code",
   "execution_count": null,
   "id": "52fbb219-fb62-4fa8-b07c-25d81dc5c8f7",
   "metadata": {},
   "outputs": [],
   "source": [
    "model.compile(optimizer=\"rmsprop\",\n",
    "              loss='sparse_categorical_crossentropy',\n",
    "              metrics=['accuracy'])"
   ]
  },
  {
   "cell_type": "markdown",
   "id": "56b508b8-ad59-498e-85b2-0bebdff7ce7a",
   "metadata": {},
   "source": [
    "### 모델 학습"
   ]
  },
  {
   "cell_type": "code",
   "execution_count": null,
   "id": "06e31429-2022-4d12-81a4-0690b53d022e",
   "metadata": {},
   "outputs": [],
   "source": [
    "history = model.fit(train_dataset, epochs=15, validation_data=validation_dataset)"
   ]
  },
  {
   "cell_type": "markdown",
   "id": "82e6f47c-a492-477c-b120-edab9c481733",
   "metadata": {},
   "source": [
    "### 학습 결과 시각화"
   ]
  },
  {
   "cell_type": "code",
   "execution_count": null,
   "id": "cb554091-f8b8-4041-8c70-8939ec1fae28",
   "metadata": {},
   "outputs": [],
   "source": [
    "plt.figure(figsize=(12, 4))\n",
    "plt.subplot(1, 2, 1)\n",
    "plt.plot(history.history['loss'], label='train_loss')\n",
    "plt.plot(history.history['val_loss'], label='val_loss')\n",
    "plt.xlabel('Epochs')\n",
    "plt.ylabel('Loss')\n",
    "plt.legend()\n",
    "plt.title('Loss over Epochs')\n",
    "\n",
    "plt.subplot(1, 2, 2)\n",
    "plt.plot(history.history['accuracy'], label='train_accuracy')\n",
    "plt.plot(history.history['val_accuracy'], label='val_accuracy')\n",
    "plt.xlabel('Epochs')\n",
    "plt.ylabel('Accuracy')\n",
    "plt.legend()\n",
    "plt.title('Accuracy over Epochs')\n",
    "\n",
    "plt.show()"
   ]
  },
  {
   "cell_type": "markdown",
   "id": "88496f71-c5b6-4485-8a7b-0dc1a91ea8d6",
   "metadata": {},
   "source": [
    "### 데이터 증강 설정"
   ]
  },
  {
   "cell_type": "code",
   "execution_count": null,
   "id": "35b7e084-ac45-4c2c-b08b-447edf42aeb6",
   "metadata": {},
   "outputs": [],
   "source": [
    "data_augmentation = tf.keras.Sequential(\n",
    "    [\n",
    "        tf.keras.layers.RandomFlip(\"horizontal\"),\n",
    "        tf.keras.layers.RandomRotation(0.1),\n",
    "        tf.keras.layers.RandomZoom(0.2),\n",
    "    ]\n",
    ")\n",
    "\n",
    "# 증강된 데이터로 모델 설계\n",
    "model_augmented = Sequential([\n",
    "    tf.keras.layers.InputLayer(input_shape=(28, 28, 1)),\n",
    "    data_augmentation,  # 데이터 증강 추가\n",
    "    Conv2D(32, (3, 3), activation='relu'),\n",
    "    MaxPooling2D((2, 2)),\n",
    "    Conv2D(64, (3, 3), activation='relu'),\n",
    "    MaxPooling2D((2, 2)),\n",
    "    Flatten(),\n",
    "    Dense(128, activation='relu'),\n",
    "    Dropout(0.5),\n",
    "    Dense(10, activation='softmax')\n",
    "])"
   ]
  },
  {
   "cell_type": "markdown",
   "id": "bc2063c9-c70a-4e06-b860-45dded959d4c",
   "metadata": {},
   "source": [
    "### 모델 컴파일"
   ]
  },
  {
   "cell_type": "code",
   "execution_count": null,
   "id": "3ddc616a-5213-4676-a2c4-382fda802208",
   "metadata": {},
   "outputs": [],
   "source": [
    "model_augmented.compile(optimizer=\"rmsprop\",\n",
    "                        loss='sparse_categorical_crossentropy',\n",
    "                        metrics=['accuracy'])"
   ]
  },
  {
   "cell_type": "markdown",
   "id": "18fcf1cc-e3ed-43cc-8cf0-63105dc2da79",
   "metadata": {},
   "source": [
    "### 모델 저장 콜백 설정"
   ]
  },
  {
   "cell_type": "code",
   "execution_count": null,
   "id": "cd5fca4b-e050-4a8e-a57e-976f30586bd4",
   "metadata": {},
   "outputs": [],
   "source": [
    "callbacks = ModelCheckpoint(\n",
    "    filepath='best_model_augmented.h5',\n",
    "    save_best_only=True,\n",
    "    monitor='val_loss')"
   ]
  },
  {
   "cell_type": "markdown",
   "id": "6978d299-88bb-4eaf-afc6-60e58c8e6fd2",
   "metadata": {},
   "source": [
    "### 증강된 데이터로 모델 학습"
   ]
  },
  {
   "cell_type": "code",
   "execution_count": null,
   "id": "2469038f-3367-4d69-9d60-c2fb467007ff",
   "metadata": {},
   "outputs": [],
   "source": [
    "history_augmented = model_augmented.fit(train_dataset, epochs=50, validation_data=validation_dataset, callbacks=callbacks)"
   ]
  },
  {
   "cell_type": "markdown",
   "id": "85702679-ee96-4e44-a36f-4dc10ed28021",
   "metadata": {},
   "source": [
    "### 학습 결과 시각화 (증강 데이터)"
   ]
  },
  {
   "cell_type": "code",
   "execution_count": null,
   "id": "974349b1-ef18-4a57-a3de-f4cc5d83e7dd",
   "metadata": {},
   "outputs": [],
   "source": [
    "plt.figure(figsize=(12, 4))\n",
    "plt.subplot(1, 2, 1)\n",
    "plt.plot(history_augmented.history['loss'], label='train_loss')\n",
    "plt.plot(history_augmented.history['val_loss'], label='val_loss')\n",
    "plt.xlabel('Epochs')\n",
    "plt.ylabel('Loss')\n",
    "plt.legend()\n",
    "plt.title('Loss over Epochs (Augmented Data)')\n",
    "\n",
    "plt.subplot(1, 2, 2)\n",
    "plt.plot(history_augmented.history['accuracy'], label='train_accuracy')\n",
    "plt.plot(history_augmented.history['val_accuracy'], label='val_accuracy')\n",
    "plt.xlabel('Epochs')\n",
    "plt.ylabel('Accuracy')\n",
    "plt.legend()\n",
    "plt.title('Accuracy over Epochs (Augmented Data)')"
   ]
  },
  {
   "cell_type": "markdown",
   "id": "77dfcfaf-fe92-4e26-809a-7ca29d4450f5",
   "metadata": {},
   "source": [
    "### 모델 예측 (증강 데이터)"
   ]
  },
  {
   "cell_type": "code",
   "execution_count": null,
   "id": "f932b1e6-82c5-4cb2-bd17-76b4738b9067",
   "metadata": {},
   "outputs": [],
   "source": [
    "predictions_augmented = model_augmented.predict(test_dataset)\n",
    "predicted_labels_augmented = np.argmax(predictions_augmented, axis=1)"
   ]
  },
  {
   "cell_type": "markdown",
   "id": "2371082d-98e2-4b53-ba7a-9367cb24b790",
   "metadata": {},
   "source": [
    "### 제출 파일 생성"
   ]
  },
  {
   "cell_type": "code",
   "execution_count": null,
   "id": "424fcd9f-25da-49c7-831d-0cd9b29b8b17",
   "metadata": {},
   "outputs": [],
   "source": [
    "file_paths = [os.path.basename(file_path) for file_path in test_image_paths]\n",
    "\n",
    "submission_augmented = pd.DataFrame({\n",
    "    'file_name': file_paths,\n",
    "    'label': predicted_labels_augmented\n",
    "})\n",
    "submission_augmented.to_csv('submission_augmented.csv', index=False)\n",
    "print(\"Submission file with augmented data created\")"
   ]
  }
 ],
 "metadata": {
  "kernelspec": {
   "display_name": "Python 3 (ipykernel)",
   "language": "python",
   "name": "python3"
  },
  "language_info": {
   "codemirror_mode": {
    "name": "ipython",
    "version": 3
   },
   "file_extension": ".py",
   "mimetype": "text/x-python",
   "name": "python",
   "nbconvert_exporter": "python",
   "pygments_lexer": "ipython3",
   "version": "3.12.4"
  }
 },
 "nbformat": 4,
 "nbformat_minor": 5
}
